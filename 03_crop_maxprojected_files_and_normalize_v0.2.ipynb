{
 "cells": [
  {
   "cell_type": "markdown",
   "id": "democratic-holiday",
   "metadata": {},
   "source": [
    "### Details:\n",
    "* Author: Gayathri Nadar (Scientific Computing Facility, MPI-CBG)\n",
    "* Date: 2021-10\n",
    "* For: Ksenia (Vastenhouw lab)\n",
    "* Sections of notebook adapted from Noreen Walker (Scientific Computing Facility, MPI-CBG)'s work https://git.mpi-cbg.de/scicomp/bioimage_team/mauricio_norden_lightsheetpreprocessing\n",
    "\n",
    "### About\n",
    "* This notebook is used to define **crop regions of interest (Roi)** for time-lapse data.\n",
    "* **A time-lapse movie prepared from files in a folder is loaded** \n",
    "* **The user can then interactively draw the Roi for cropping in the X, Y dimension.**\n",
    "* **The Roi is then used to crop the time-lapse movie**\n",
    "* **Finally the cropped image is normalized in a single channel**\n",
    "* The normalized image is also drift corrected in the specified channel and if specified, the other channel of the 2 is registered to the drift corrected channel. \n",
    "\n",
    "### Data:\n",
    "* **Input**\n",
    "    * folder containing max-projected *tif* files (*.tif*) obtained as output from CARE prediction. \n",
    "    * each file has n time points so a sequence has no of files x n time points in total.\n",
    "        * Allowed dimensions per file: TCYX, time-points, 2 channels, y, x\n",
    "    * sometimes the last image has less no of time points. In that case the sequence has Timepoints = t1 + t2 + t3 + ... + tn where tx = no time points in each file\n",
    "    * **both cases described above is analyzable.**\n",
    "    * **single image is also analyzable**. Specify the path in `datadir` accordingly.\n",
    "    * calibration to be set for the image: **X, Y pixel size in um and time interval in seconds**\n",
    "* **Output** </br>\n",
    " Images are saved in folder `datadirName_output` outside of `datadir`:\n",
    " \n",
    "    * whole image with calibration TCYX\n",
    "    * cropped image with all dimensions TCYX \n",
    "    * cropped normalized image of the specified channel TYX\n",
    "    * cropped normalized drift corrected image of the specified channel TYX\n",
    "    * cropped normalized drift corrected image of the other channel TYX\n",
    "    * cropped normalized drift corrected hyperstack image with 2 channels CTYX\n",
    "\n",
    "### Usage\n",
    "* Make sure to have the this notebook and the the *imgprocessing_functions.py* in the same folder\n",
    "* Click through the cells and:\n",
    "    * Specify input directory and optional other parameters below.\n",
    "    * Specify the channel to process, and for each channel run through all cells downstream of the `specify channel` cell.\n",
    "\n",
    "### Background info\n",
    "* Most relevant **Used libraries**:\n",
    "    * `numpy`: image (matrix) processing\n",
    "    * `napari`: Interactive image visualization\n",
    "    * `tifffile`: saving data \n",
    "        * docs: *help(tifffile)* and \n",
    "        https://forum.image.sc/t/python-copy-all-metadata-from-one-multipage-tif-to-another/26597/8\n",
    "    * `pystackreg`: drift correction\n",
    "* **Getting Help for a function**: Type `help(myfunction)` or `myfunction??` into a new cell and run that cell.\n",
    "\n",
    "\n",
    "### Workflow\n",
    "- read images from the folder specified\n",
    "    - ask user to specify folder and calibration \n",
    "    - image dimensions of entire sequence = XYCT (C= 2 and T = t1 + t2 + t3 + ... + tn, tx = no time points in each file)\n",
    "- load array into napari for viewing\n",
    "    - ask user to define roi for cropping \n",
    "    - get roi \n",
    "- crop image\n",
    "    - ask user to specify time range for cropping \n",
    "    - get coordinates for xmin, ymin, xmax, ymax for cropping from roi + time \n",
    "    - crop image \n",
    "- cropped image normalization \n",
    "    - ask user to specify channel to normalize \n",
    "    - normalize cropped image using histogram of xyt \n",
    "- cropped image registration \n",
    "    - drift correct in the normalized image in specified channel (channel specified for normalize)\n",
    "    - ask user if they want to register the other channel to other drift corrected channel \n",
    "    - if yes, register other channel to first, merge into hyperstack\n",
    "- save output "
   ]
  },
  {
   "cell_type": "code",
   "execution_count": 2,
   "id": "special-switch",
   "metadata": {},
   "outputs": [],
   "source": [
    "import numpy as np\n",
    "from matplotlib import pyplot as plt\n",
    "import tifffile\n",
    "from tifffile import imread, imwrite, TiffFile, TiffSequence\n",
    "from csbdeep.io import save_tiff_imagej_compatible\n",
    "import glob\n",
    "import os, time, re\n",
    "from pystackreg import StackReg\n",
    "import datetime \n",
    "from datetime import datetime \n",
    "\n",
    "import napari\n",
    "from skimage import transform, img_as_float, exposure\n",
    "from skimage.registration import phase_cross_correlation\n",
    "from skimage.feature import register_translation\n",
    "\n",
    "from imgprocessing_functions import * # all custom functions\n",
    "\n",
    "%load_ext autoreload\n",
    "%autoreload 2"
   ]
  },
  {
   "cell_type": "code",
   "execution_count": 3,
   "id": "previous-karen",
   "metadata": {},
   "outputs": [],
   "source": [
    "%gui qt5\n",
    "# wait 5 sec"
   ]
  },
  {
   "cell_type": "code",
   "execution_count": null,
   "id": "f9e4173c",
   "metadata": {},
   "outputs": [],
   "source": []
  },
  {
   "cell_type": "markdown",
   "id": "thousand-manner",
   "metadata": {},
   "source": [
    "### User Input: specify parameters\n",
    "\n",
    "Assumptions:\n",
    "- Data is 2D with TCYX dimensions \n",
    "- Each file has specific number of time-points \n",
    "- E.g. folder has 7 images each with 8 timepoints, 2 channels, 1 slice (max-projected)\n",
    "\n",
    "Calibration information:\n",
    "- The final images are saved as FIJI compatible hyperstacks\n",
    "- The calibration information added here will be applied to the images when saving\n",
    "\n",
    "!!!!!! important point: sometimes if the whole notebook is not reloaded when new image sequence is loaded - it does not register a new imagename"
   ]
  },
  {
   "cell_type": "code",
   "execution_count": 4,
   "id": "victorian-contrary",
   "metadata": {},
   "outputs": [
    {
     "name": "stdout",
     "output_type": "stream",
     "text": [
      "Output will be saved to folder:  ../data_differentTP__output\n"
     ]
    }
   ],
   "source": [
    "# enter the directory containing time-lapse images\n",
    "# specify path with pattern + .tif\n",
    "datadir = \"../data_differentTP/*t000000*.tif\"\n",
    "# datadir = \"../data_differentTP/*.tif\"\n",
    "\n",
    "# create datadir using timestamp \n",
    "outdirname = os.path.basename(os.path.dirname(datadir)) + \"__output\"\n",
    "outputdir= os.path.join(os.path.dirname(os.path.dirname(datadir)), outdirname)      # will be created\n",
    "print(\"Output will be saved to folder: \", outputdir)\n",
    "\n",
    "calib = [0.196, 0.196]  # pixel size in um in X and Y, Z = 1 as we work with max-projected images\n",
    "frame_interval = 40  # in seconds"
   ]
  },
  {
   "cell_type": "markdown",
   "id": "heavy-balloon",
   "metadata": {},
   "source": [
    "#### Find files and display some properties "
   ]
  },
  {
   "cell_type": "code",
   "execution_count": 29,
   "id": "through-season",
   "metadata": {},
   "outputs": [
    {
     "name": "stdout",
     "output_type": "stream",
     "text": [
      "Found  1  image files.\n",
      "Single time-lapse file shape: (TCYX) (8, 2, 1000, 1000)\n",
      "Single time-lapse file dims: (TCYX) 4\n",
      "---------Single time point image properties----------\n",
      "Shape: (CYX) (2, 1000, 1000)\n",
      "Datatype: uint16\n",
      "No dimensions: 3\n"
     ]
    }
   ],
   "source": [
    "filenames = loadImagesFromPath(datadir)\n",
    "print(\"Found \",len(filenames),\" image files.\")\n",
    "\n",
    "# read an image and show properties\n",
    "imgsample = tifffile.imread(filenames[0])\n",
    "print(\"Single time-lapse file shape: (TCYX)\", imgsample.shape)\n",
    "print(\"Single time-lapse file dims: (TCYX)\", imgsample.ndim)\n",
    "print(\"---------Single time point image properties----------\")\n",
    "print(\"Shape: (CYX)\",  imgsample[0].shape)\n",
    "print(\"Datatype:\", imgsample[0].dtype)\n",
    "print(\"No dimensions:\", imgsample[0].ndim)"
   ]
  },
  {
   "cell_type": "markdown",
   "id": "configured-sampling",
   "metadata": {},
   "source": [
    "#### Create movie to process \n",
    "- Images in the specified directory are concatinated into a continuous movie sequence "
   ]
  },
  {
   "cell_type": "code",
   "execution_count": 30,
   "id": "soviet-shock",
   "metadata": {},
   "outputs": [
    {
     "name": "stdout",
     "output_type": "stream",
     "text": [
      "Movie size (TCYX): (8, 2, 1000, 1000)\n"
     ]
    }
   ],
   "source": [
    "# read all files\n",
    "image_sequence, shape_imagesequence = prepareMovieForCrop(filenames)\n",
    "\n",
    "print(\"Movie size (TCYX):\", shape_imagesequence) # TCYX"
   ]
  },
  {
   "cell_type": "code",
   "execution_count": null,
   "id": "a43b55e8",
   "metadata": {},
   "outputs": [],
   "source": []
  },
  {
   "cell_type": "code",
   "execution_count": 33,
   "id": "binary-organic",
   "metadata": {},
   "outputs": [],
   "source": [
    "nchannels=shape_imagesequence[1] # TCYX\n",
    "\n",
    "# good contrast ranges\n",
    "contrasts=[]\n",
    "for ch in range(nchannels):\n",
    "    contrasts.append([np.percentile(image_sequence[::2,ch,::5],1),np.percentile(image_sequence[::2,ch,::5],99.8)]) # use a subset"
   ]
  },
  {
   "cell_type": "markdown",
   "id": "seven-professional",
   "metadata": {},
   "source": [
    "## Interactive cropping\n",
    "Cropping is done in XY plane. All dimensions are visualized and cropped (TCYX).\n",
    "\n",
    "#### Usage instructions:\n",
    "* Select the Roi by clicking on it\n",
    "* Either modify the Roi: Drag and scale it \n",
    "* Or: delete the Roi: click on the 'x' tool in the top left (after selecting the Roi)\n",
    "* Close viewer when done"
   ]
  },
  {
   "cell_type": "code",
   "execution_count": 32,
   "id": "congressional-edition",
   "metadata": {
    "scrolled": false
   },
   "outputs": [
    {
     "name": "stderr",
     "output_type": "stream",
     "text": [
      "/Users/nadar/anaconda3/envs/napari_ipf/lib/python3.8/site-packages/napari/_vispy/vispy_camera.py:109: RuntimeWarning: divide by zero encountered in true_divide\n",
      "  zoom = np.min(canvas_size / scale)\n"
     ]
    }
   ],
   "source": [
    "shapes_layer= displayForCrop(image_sequence, contrasts)"
   ]
  },
  {
   "cell_type": "markdown",
   "id": "electric-mention",
   "metadata": {},
   "source": [
    "##### Close viewer manually"
   ]
  },
  {
   "cell_type": "code",
   "execution_count": 34,
   "id": "interim-dance",
   "metadata": {},
   "outputs": [
    {
     "name": "stdout",
     "output_type": "stream",
     "text": [
      "Roi coordinates (px): top-left:( 255 , 460 ),  bottom-right: ( 510 , 723 ). Limits from image dim: :( 1000 , 1000 )\n"
     ]
    }
   ],
   "source": [
    "[ymin, ymax, xmin, xmax] = extractAndPrepRoi(shapes_layer, shape_imagesequence[2], shape_imagesequence[3])"
   ]
  },
  {
   "cell_type": "markdown",
   "id": "common-pavilion",
   "metadata": {},
   "source": [
    "### User input: Provide time range to crop "
   ]
  },
  {
   "cell_type": "code",
   "execution_count": 35,
   "id": "hearing-speed",
   "metadata": {},
   "outputs": [],
   "source": [
    "time_range_min = 0\n",
    "time_range_max = 5"
   ]
  },
  {
   "cell_type": "code",
   "execution_count": null,
   "id": "3633d587",
   "metadata": {},
   "outputs": [],
   "source": []
  },
  {
   "cell_type": "markdown",
   "id": "baking-detective",
   "metadata": {},
   "source": [
    "#### Prepare coordinates for cropping "
   ]
  },
  {
   "cell_type": "code",
   "execution_count": 36,
   "id": "offensive-aquarium",
   "metadata": {},
   "outputs": [
    {
     "name": "stdout",
     "output_type": "stream",
     "text": [
      "Cropping range in all dimensions:  {'xmin': 460, 'xmax': 723, 'ymin': 255, 'ymax': 510, 'tmin': 0, 'tmax': 5}\n"
     ]
    }
   ],
   "source": [
    "cropcoords = {}\n",
    "cropcoords[\"xmin\"] = xmin \n",
    "cropcoords[\"xmax\"] = xmax \n",
    "cropcoords[\"ymin\"] = ymin \n",
    "cropcoords[\"ymax\"] = ymax \n",
    "cropcoords[\"tmin\"] = time_range_min \n",
    "cropcoords[\"tmax\"] = time_range_max\n",
    "\n",
    "print(\"Cropping range in all dimensions: \", cropcoords)"
   ]
  },
  {
   "cell_type": "markdown",
   "id": "extensive-hospital",
   "metadata": {},
   "source": [
    "#### Get cropped image \n",
    "Note: all dimensions are retained: TCYX (T in specified range)"
   ]
  },
  {
   "cell_type": "code",
   "execution_count": 37,
   "id": "crazy-stereo",
   "metadata": {},
   "outputs": [
    {
     "name": "stdout",
     "output_type": "stream",
     "text": [
      "Cropping done. Shape cropped image (TCYX):  (5, 2, 255, 263)\n"
     ]
    }
   ],
   "source": [
    "cropped_imagesequence = cropImage(image_sequence, cropcoords)"
   ]
  },
  {
   "cell_type": "markdown",
   "id": "spiritual-oakland",
   "metadata": {},
   "source": [
    "### Optional cell: Run the below cell to view the cropped image \n",
    "If not happy, go back and run from the **Interactive Cropping** section"
   ]
  },
  {
   "cell_type": "code",
   "execution_count": 19,
   "id": "injured-glass",
   "metadata": {},
   "outputs": [
    {
     "name": "stderr",
     "output_type": "stream",
     "text": [
      "/Users/nadar/anaconda3/envs/napari_ipf/lib/python3.8/site-packages/napari/_vispy/vispy_camera.py:109: RuntimeWarning: divide by zero encountered in true_divide\n",
      "  zoom = np.min(canvas_size / scale)\n"
     ]
    }
   ],
   "source": [
    "viewer = napari.view_image(cropped_imagesequence, channel_axis=1, name='image',title=\"Cropped image\")"
   ]
  },
  {
   "cell_type": "markdown",
   "id": "concerned-intro",
   "metadata": {},
   "source": [
    "##### Close viewer manually"
   ]
  },
  {
   "cell_type": "markdown",
   "id": "discrete-shoulder",
   "metadata": {},
   "source": [
    "## Image normalization \n",
    "\n",
    "- The cropped image in the specified channel is normalized using CLAHE. \n",
    "- Histogram from the specified channel of cropped image (TYX) is used to compute the values for normalization.\n",
    "\n",
    "For different methods for histogram normalization check: https://scikit-image.org/docs/dev/auto_examples/color_exposure/plot_equalize.html \n",
    "\n",
    "- Both options CLAHE and contrast stretching is available to choose. \n",
    "- Note: CLAHE provides slightly better results"
   ]
  },
  {
   "cell_type": "markdown",
   "id": "disciplinary-framework",
   "metadata": {},
   "source": [
    "### User input: specify channel to process and normalization method\n",
    "\n",
    "- Channel Options: 0 or 1 for channel 1 and channel 2 respectively. \n",
    "- For different channel change here and run from here\n",
    "- Normalization option: enter string `\"clahe\"` or `\"percentile\"`\n",
    "\n",
    "**Specify channel & method**"
   ]
  },
  {
   "cell_type": "code",
   "execution_count": 40,
   "id": "practical-program",
   "metadata": {},
   "outputs": [
    {
     "name": "stdout",
     "output_type": "stream",
     "text": [
      "Histogram normalization done. Shape cropped-normalized image (TYX):  (5, 255, 263)\n"
     ]
    }
   ],
   "source": [
    "# additonal input - enter values \n",
    "channel_to_normalize = 1  # options 0 or 1\n",
    "norm_method = \"clahe\"     # options enter string \"clahe\" or \"percentile\"\n",
    "kernelsize = 20           # used if clahe is chosen\n",
    "                          # default is None, set to value between 20-50 if div by zero error \n",
    "\n",
    "\n",
    "# ------ Nothing to change ----------------------\n",
    "channel_sequence_to_normalize = cropped_imagesequence[:, channel_to_normalize, :, :]\n",
    "channel_sequence_norm = getNormalizedSequence(channel_sequence_to_normalize, method = norm_method, \n",
    "                                              kernelsize = kernelsize)"
   ]
  },
  {
   "cell_type": "markdown",
   "id": "decreased-rwanda",
   "metadata": {},
   "source": [
    "### Optional cell: Run the below cell to view the cropped normalized image "
   ]
  },
  {
   "cell_type": "code",
   "execution_count": 22,
   "id": "overall-sauce",
   "metadata": {
    "scrolled": true
   },
   "outputs": [
    {
     "name": "stderr",
     "output_type": "stream",
     "text": [
      "/Users/nadar/anaconda3/envs/napari_ipf/lib/python3.8/site-packages/napari/_vispy/vispy_camera.py:109: RuntimeWarning: divide by zero encountered in true_divide\n",
      "  zoom = np.min(canvas_size / scale)\n"
     ]
    }
   ],
   "source": [
    "viewer = napari.view_image(channel_sequence_norm, name='image', title=\"Cropped image normalized with method: \" + norm_method)"
   ]
  },
  {
   "cell_type": "markdown",
   "id": "adjacent-board",
   "metadata": {},
   "source": [
    "##### Close viewer manually"
   ]
  },
  {
   "cell_type": "markdown",
   "id": "incorrect-snake",
   "metadata": {},
   "source": [
    "### Optional cell: Run the below cell to view the histogram of the cropped image before and after normalization"
   ]
  },
  {
   "cell_type": "code",
   "execution_count": 23,
   "id": "scheduled-representative",
   "metadata": {},
   "outputs": [
    {
     "data": {
      "image/png": "[encoded data removed]",
      "text/plain": [
       "<Figure size 720x144 with 2 Axes>"
      ]
     },
     "metadata": {
      "needs_background": "light"
     },
     "output_type": "display_data"
    }
   ],
   "source": [
    "fig, ax = plt.subplots(1,2, figsize = (10,2))\n",
    "fig.tight_layout()\n",
    "ax[0].hist(channel_sequence_to_normalize.ravel(), bins=256, histtype='step', color='black')\n",
    "ax[0].set_title(\"Histogram: channel image sequence (TYX)\")\n",
    "ax[1].hist(channel_sequence_norm.ravel(), bins=256, histtype='step', color='black')\n",
    "ax[1].set_title('Histogram: normalized with method: ' + norm_method)\n",
    "\n",
    "plt.show()"
   ]
  },
  {
   "cell_type": "code",
   "execution_count": null,
   "id": "e0e60537",
   "metadata": {},
   "outputs": [],
   "source": []
  },
  {
   "cell_type": "markdown",
   "id": "ideal-humidity",
   "metadata": {},
   "source": [
    "#### Save images \n",
    "\n",
    "3 images are saved - \n",
    "- whole image with calibration \n",
    "- cropped image with all dimensions TCYX \n",
    "- cropped normalized image of the specified channel TYX"
   ]
  },
  {
   "cell_type": "code",
   "execution_count": null,
   "id": "bd8c1f4c",
   "metadata": {},
   "outputs": [],
   "source": []
  },
  {
   "cell_type": "code",
   "execution_count": 41,
   "id": "74317049",
   "metadata": {},
   "outputs": [],
   "source": [
    "# extract time info \n",
    "time_stamp = datetime.now().strftime(\"%Y%m%d_%H-%M\")"
   ]
  },
  {
   "cell_type": "code",
   "execution_count": null,
   "id": "37cdb197",
   "metadata": {},
   "outputs": [],
   "source": []
  },
  {
   "cell_type": "code",
   "execution_count": 42,
   "id": "accurate-onion",
   "metadata": {},
   "outputs": [],
   "source": [
    "# prepare name for saving\n",
    "imagename = os.path.splitext(os.path.basename(filenames[0]))[0]\n",
    "parts = imagename.split(\"_t000000\") \n",
    "\n",
    "savename_full = parts[0] + \"_t=ALL\" + parts[1] + \".tif\"\n",
    "savename_cropped = time_stamp + \"__\" + parts[0] + \"_t\"+ str(time_range_min) + \"-t\" + \\\n",
    "                str(time_range_max) + parts[1] + \".tif\"\n",
    "\n",
    "savename_norm = time_stamp + \"__\" + parts[0] + \"_t\"+ str(time_range_min) + \"-t\" + \\\n",
    "                str(time_range_max) + \"_c\" + str(channel_to_normalize) + \"_norm\" + parts[1] + \".tif\"\n",
    "        \n",
    "saveImageIJCompatible(image_sequence, outputdir, savename_full, \n",
    "                      calib, frame_interval, axes= 'TCYX')                          # full image\n",
    "saveImageIJCompatible(cropped_imagesequence, outputdir, savename_cropped, \n",
    "                      calib, frame_interval, axes= 'TCYX')                          # cropped image \n",
    "saveImageIJCompatible(channel_sequence_norm, outputdir, savename_norm, calib, \n",
    "                      frame_interval, axes= 'TYX')                                  # cropped normalized ch image"
   ]
  },
  {
   "cell_type": "code",
   "execution_count": null,
   "id": "772a7e28",
   "metadata": {},
   "outputs": [],
   "source": []
  },
  {
   "cell_type": "markdown",
   "id": "f33cd245",
   "metadata": {},
   "source": [
    "## Image registration \n",
    "\n",
    "- Drift correction on the normalized channel based on stackreg \n",
    "- More information: https://pypi.org/project/pystackreg/ \n",
    "\n"
   ]
  },
  {
   "cell_type": "code",
   "execution_count": null,
   "id": "9d3da6f9",
   "metadata": {},
   "outputs": [],
   "source": []
  },
  {
   "cell_type": "code",
   "execution_count": 43,
   "id": "60383e80",
   "metadata": {},
   "outputs": [],
   "source": [
    "img0 = channel_sequence_norm # 3 dimensions : frames x width x height\n",
    "\n",
    "sr = StackReg(StackReg.TRANSLATION)\n",
    "\n",
    "# register each frame to the previous (already registered) one\n",
    "# this is what the original StackReg ImageJ plugin uses\n",
    "tmats = sr.register_stack(img0, reference='previous')\n",
    "out_previous = sr.transform_stack(img0)\n",
    "\n",
    "savename_norm_reg = time_stamp + \"__\" + parts[0] + \"_t\"+ str(time_range_min) + \"-t\" + str(time_range_max) + \"_c\" + \\\n",
    "                    str(channel_to_normalize) + \"_norm_registered\" + parts[1] + \".tif\"\n",
    "\n",
    "saveImageIJCompatible(out_previous.astype(np.uint16), outputdir, savename_norm_reg, \n",
    "                      calib, frame_interval, axes= 'TYX')  "
   ]
  },
  {
   "cell_type": "code",
   "execution_count": null,
   "id": "54e92d25",
   "metadata": {},
   "outputs": [],
   "source": []
  },
  {
   "cell_type": "markdown",
   "id": "6572d4d1",
   "metadata": {},
   "source": [
    "### User input: Set True or False to normalize and register other channel\n",
    "\n",
    "If set to True - \n",
    "- The other channel is normalized \n",
    "- Registered to previously drift corrected channel \n",
    "- Saved as single channel as well as hyperstack with both channels merged "
   ]
  },
  {
   "cell_type": "code",
   "execution_count": null,
   "id": "267495d4",
   "metadata": {},
   "outputs": [],
   "source": []
  },
  {
   "cell_type": "code",
   "execution_count": 44,
   "id": "8d7640d1",
   "metadata": {},
   "outputs": [
    {
     "name": "stdout",
     "output_type": "stream",
     "text": [
      "Histogram normalization done. Shape cropped-normalized image (TYX):  (5, 255, 263)\n"
     ]
    }
   ],
   "source": [
    "normalize_and_register_other_channel = True     # set it to True or False\n",
    "\n",
    "# ------ Nothing to change ----------------------\n",
    "\n",
    "# create empty hyperstack \n",
    "merged = np.zeros(cropped_imagesequence.shape)\n",
    "merged[:, channel_to_normalize, :, :] = out_previous\n",
    "\n",
    "if normalize_and_register_other_channel:\n",
    "    \n",
    "    # find out the other channel no and extract\n",
    "    other_ch_no = 0 if channel_to_normalize == 1 else 1 \n",
    "    ch_sequence = cropped_imagesequence[:, other_ch_no, :, :]\n",
    "    \n",
    "    # normalize\n",
    "    ch_sequence_norm = getNormalizedSequence(ch_sequence, method = norm_method, kernelsize = kernelsize)\n",
    "    \n",
    "    # register using the transformation matrix from other channel\n",
    "    img1 = sr.transform_stack(ch_sequence_norm, tmats=tmats)\n",
    "    \n",
    "    # save image \n",
    "    savename_norm_reg1 = time_stamp + \"__\" + parts[0] + \"_t\"+ str(time_range_min) + \"-t\" + str(time_range_max) + \"_c\" + \\\n",
    "                    str(other_ch_no) + \"_norm_registered\" + parts[1] + \".tif\"\n",
    "    saveImageIJCompatible(img1.astype(np.uint16), outputdir, savename_norm_reg1, \n",
    "                          calib, frame_interval, axes= 'TYX') \n",
    "    \n",
    "    # save hyperstack\n",
    "    merged[:, other_ch_no, :, :] = img1  \n",
    "    savename_norm_reg_merged = time_stamp + \"__\" + parts[0] + \"_t\"+ str(time_range_min) + \"-t\" + str(time_range_max) + \"_c=ALL\" + \\\n",
    "                    \"_norm_registered_merged\" + parts[1] + \".tif\"\n",
    "    \n",
    "    saveImageIJCompatible(merged.astype(np.uint16), outputdir, savename_norm_reg_merged, \n",
    "                          calib, frame_interval, axes= 'TCYX')  \n",
    "    "
   ]
  },
  {
   "cell_type": "code",
   "execution_count": null,
   "id": "c5a2994b",
   "metadata": {},
   "outputs": [],
   "source": []
  },
  {
   "cell_type": "code",
   "execution_count": null,
   "id": "6f0ffb4f",
   "metadata": {},
   "outputs": [],
   "source": []
  }
 ],
 "metadata": {
  "kernelspec": {
   "display_name": "napari_n2v_ipf",
   "language": "python",
   "name": "napari_n2v_ipf"
  },
  "language_info": {
   "codemirror_mode": {
    "name": "ipython",
    "version": 3
   },
   "file_extension": ".py",
   "mimetype": "text/x-python",
   "name": "python",
   "nbconvert_exporter": "python",
   "pygments_lexer": "ipython3",
   "version": "3.8.11"
  }
 },
 "nbformat": 4,
 "nbformat_minor": 5
}
